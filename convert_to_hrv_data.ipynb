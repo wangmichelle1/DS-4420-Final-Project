{
 "cells": [
  {
   "cell_type": "code",
   "execution_count": 1,
   "id": "78e85cda",
   "metadata": {},
   "outputs": [],
   "source": [
    "# convert raw RR interval to HRV (SDNN)\n",
    "import pandas as pd\n",
    "\n",
    "def compute_sdnn(file_path, output_path):\n",
    "    # Load data\n",
    "    df = pd.read_csv(file_path, delimiter=';')\n",
    "    \n",
    "    # Rename and convert\n",
    "    df.columns = ['timestamp', 'rr_interval_ms']\n",
    "    df['timestamp'] = pd.to_datetime(df['timestamp'])\n",
    "    df.set_index('timestamp', inplace=True)\n",
    "    \n",
    "    # Calculate SDNN for 5-minute windows\n",
    "    sdnn_5min = df['rr_interval_ms'].resample('5T').std().dropna()\n",
    "    sdnn_5min_df = sdnn_5min.reset_index()\n",
    "    sdnn_5min_df.columns = ['timestamp', 'HRV_5min']\n",
    "    \n",
    "    # Save result\n",
    "    sdnn_5min_df.to_csv(output_path, index=False)\n",
    "\n",
    "# Convert two files\n",
    "compute_sdnn(\"patient_hr_1.csv\", \"hrv_patient1.csv\")\n",
    "compute_sdnn(\"patient_hr_105.csv\", \"hrv_patient105.csv\")\n"
   ]
  }
 ],
 "metadata": {
  "kernelspec": {
   "display_name": "base",
   "language": "python",
   "name": "python3"
  },
  "language_info": {
   "codemirror_mode": {
    "name": "ipython",
    "version": 3
   },
   "file_extension": ".py",
   "mimetype": "text/x-python",
   "name": "python",
   "nbconvert_exporter": "python",
   "pygments_lexer": "ipython3",
   "version": "3.8.2"
  }
 },
 "nbformat": 4,
 "nbformat_minor": 5
}
