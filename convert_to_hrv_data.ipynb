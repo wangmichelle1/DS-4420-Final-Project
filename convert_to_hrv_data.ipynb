{
 "cells": [
  {
   "cell_type": "code",
   "execution_count": 8,
   "id": "1b401235",
   "metadata": {},
   "outputs": [
    {
     "data": {
      "text/html": [
       "<div>\n",
       "<style scoped>\n",
       "    .dataframe tbody tr th:only-of-type {\n",
       "        vertical-align: middle;\n",
       "    }\n",
       "\n",
       "    .dataframe tbody tr th {\n",
       "        vertical-align: top;\n",
       "    }\n",
       "\n",
       "    .dataframe thead th {\n",
       "        text-align: right;\n",
       "    }\n",
       "</style>\n",
       "<table border=\"1\" class=\"dataframe\">\n",
       "  <thead>\n",
       "    <tr style=\"text-align: right;\">\n",
       "      <th></th>\n",
       "      <th>TIMESTAMP;HRV</th>\n",
       "    </tr>\n",
       "  </thead>\n",
       "  <tbody>\n",
       "    <tr>\n",
       "      <th>0</th>\n",
       "      <td>2011-05-10 13:25:00.000;5000.00</td>\n",
       "    </tr>\n",
       "    <tr>\n",
       "      <th>1</th>\n",
       "      <td>2011-05-10 13:25:05.000;2000.00</td>\n",
       "    </tr>\n",
       "    <tr>\n",
       "      <th>2</th>\n",
       "      <td>2011-05-10 13:25:07.000;2000.00</td>\n",
       "    </tr>\n",
       "    <tr>\n",
       "      <th>3</th>\n",
       "      <td>2011-05-10 13:25:09.000;2000.00</td>\n",
       "    </tr>\n",
       "    <tr>\n",
       "      <th>4</th>\n",
       "      <td>2011-05-10 13:25:11.000;2000.00</td>\n",
       "    </tr>\n",
       "  </tbody>\n",
       "</table>\n",
       "</div>"
      ],
      "text/plain": [
       "                     TIMESTAMP;HRV\n",
       "0  2011-05-10 13:25:00.000;5000.00\n",
       "1  2011-05-10 13:25:05.000;2000.00\n",
       "2  2011-05-10 13:25:07.000;2000.00\n",
       "3  2011-05-10 13:25:09.000;2000.00\n",
       "4  2011-05-10 13:25:11.000;2000.00"
      ]
     },
     "execution_count": 8,
     "metadata": {},
     "output_type": "execute_result"
    }
   ],
   "source": [
    "import pandas as pd\n",
    "\n",
    "file_path = \"patient_hr_105.csv\"\n",
    "df = pd.read_csv(file_path)\n",
    "\n",
    "df.head()"
   ]
  },
  {
   "cell_type": "code",
   "execution_count": 9,
   "id": "78e85cda",
   "metadata": {},
   "outputs": [],
   "source": [
    "# Reload the dataset with the correct delimiter\n",
    "df = pd.read_csv(file_path, delimiter=';')\n",
    "\n",
    "# Rename columns for clarity\n",
    "df.columns = ['timestamp', 'rr_interval_ms']\n",
    "\n",
    "# Convert timestamp column to datetime format\n",
    "df['timestamp'] = pd.to_datetime(df['timestamp'])\n",
    "\n",
    "# Set timestamp as index for resampling\n",
    "df.set_index('timestamp', inplace=True)\n",
    "\n",
    "# Calculate SDNN (standard deviation of NN intervals) for every 10-minute window\n",
    "sdnn_10min = df['rr_interval_ms'].resample('10T').std().dropna()\n",
    "sdnn_10min_df = sdnn_10min.reset_index()\n",
    "sdnn_10min_df.columns = ['timestamp', 'SDNN_10min']\n",
    "\n",
    "# Save the SDNN 10-minute data to a CSV file\n",
    "sdnn_10min_df.to_csv(\"sdnn_patient105.csv\", index=False)"
   ]
  }
 ],
 "metadata": {
  "kernelspec": {
   "display_name": "base",
   "language": "python",
   "name": "python3"
  },
  "language_info": {
   "codemirror_mode": {
    "name": "ipython",
    "version": 3
   },
   "file_extension": ".py",
   "mimetype": "text/x-python",
   "name": "python",
   "nbconvert_exporter": "python",
   "pygments_lexer": "ipython3",
   "version": "3.8.2"
  }
 },
 "nbformat": 4,
 "nbformat_minor": 5
}
